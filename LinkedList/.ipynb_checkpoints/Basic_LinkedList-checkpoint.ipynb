{
 "cells": [
  {
   "cell_type": "code",
   "execution_count": 11,
   "id": "503ad5a1",
   "metadata": {
    "lines_to_next_cell": 0
   },
   "outputs": [
    {
     "data": {
      "text/plain": [
       "<__main__.Node at 0x204c3b57f40>"
      ]
     },
     "execution_count": 11,
     "metadata": {},
     "output_type": "execute_result"
    }
   ],
   "source": [
    "class Node:\n",
    "    def __init__(self, data, next=None):\n",
    "        self.data = data\n",
    "        self.next = next\n",
    "        \n",
    "class NodeMgmt:\n",
    "    def __init__(self, data):\n",
    "        self.head = Node(data)\n",
    "        \n",
    "    def add(self, data):\n",
    "        if self.head == None:\n",
    "            self.head = Node(data)\n",
    "        node = self.head\n",
    "        while node.next:\n",
    "            node = node.next\n",
    "        node.next = Node(data)\n",
    "            \n",
    "    def delete(self, data):\n",
    "        if self.head == '':\n",
    "            print(\"해당 값이 없습니다.\")\n",
    "            return\n",
    "        if self.head.data == data:\n",
    "            temp = self.head\n",
    "            self.head = self.head.next\n",
    "            del temp\n",
    "        else :\n",
    "            node = self.head\n",
    "            while node.next:\n",
    "                if node.next.data == data:\n",
    "                    temp = node.next\n",
    "                    node.next = node.next.next\n",
    "                    del temp\n",
    "                    return\n",
    "                else:\n",
    "                    node = node.next\n",
    "                    \n",
    "    def find(self, data):\n",
    "        node = self.head\n",
    "        while node:\n",
    "            if(node.data == data):\n",
    "                return node\n",
    "            else:\n",
    "                node = node.next\n",
    "        print(\"해당 값이 없습니다.\")\n",
    "            \n",
    "    def desc(self):\n",
    "        node = self.head\n",
    "        while node:\n",
    "            print(node.data)\n",
    "            node = node.next\n",
    "        \n",
    "linkedList = NodeMgmt(0)\n",
    "\n",
    "for i in range (1,10):\n",
    "    linkedList.add(i)\n",
    "    \n",
    "linkedList.find(5)"
   ]
  },
  {
   "cell_type": "code",
   "execution_count": null,
   "id": "c5cca0a2",
   "metadata": {},
   "outputs": [],
   "source": []
  }
 ],
 "metadata": {
  "jupytext": {
   "formats": "ipynb,py:light"
  },
  "kernelspec": {
   "display_name": "Python 3 (ipykernel)",
   "language": "python",
   "name": "python3"
  },
  "language_info": {
   "codemirror_mode": {
    "name": "ipython",
    "version": 3
   },
   "file_extension": ".py",
   "mimetype": "text/x-python",
   "name": "python",
   "nbconvert_exporter": "python",
   "pygments_lexer": "ipython3",
   "version": "3.9.7"
  }
 },
 "nbformat": 4,
 "nbformat_minor": 5
}
